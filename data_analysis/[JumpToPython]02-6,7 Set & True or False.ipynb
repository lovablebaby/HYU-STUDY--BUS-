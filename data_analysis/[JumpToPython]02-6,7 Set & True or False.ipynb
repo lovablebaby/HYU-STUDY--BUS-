{
 "cells": [
  {
   "cell_type": "markdown",
   "metadata": {},
   "source": [
    "## Set"
   ]
  },
  {
   "cell_type": "code",
   "execution_count": 3,
   "metadata": {},
   "outputs": [
    {
     "name": "stdout",
     "output_type": "stream",
     "text": [
      "{1, 2, 3}\n",
      "{'o', 'l', 'H', 'e'}\n"
     ]
    }
   ],
   "source": [
    "s1 = set([1,2,3])\n",
    "print(s1)\n",
    "\n",
    "s2 = set(\"Hello\")\n",
    "print(s2)"
   ]
  },
  {
   "cell_type": "markdown",
   "metadata": {},
   "source": [
    "1.  Don't allow duplicate\n",
    "2.  Unordered"
   ]
  },
  {
   "cell_type": "code",
   "execution_count": 8,
   "metadata": {},
   "outputs": [
    {
     "name": "stdout",
     "output_type": "stream",
     "text": [
      "[1, 2, 3]\n",
      "1\n",
      "(1, 2, 3) 1\n"
     ]
    }
   ],
   "source": [
    "## To solve s2 problem..\n",
    "\n",
    "s3 = set([1,2,3])\n",
    "l1 = list(s3)\n",
    "print(l1)\n",
    "\n",
    "print(l1[0])\n",
    "\n",
    "t1 = tuple(s3)\n",
    "print(t1, t1[0])"
   ]
  },
  {
   "cell_type": "markdown",
   "metadata": {},
   "source": [
    "### Application - set"
   ]
  },
  {
   "cell_type": "code",
   "execution_count": 21,
   "metadata": {},
   "outputs": [
    {
     "name": "stdout",
     "output_type": "stream",
     "text": [
      "{4, 5, 6}\n",
      "{1, 2, 3, 4, 5, 6, 7, 8, 9}\n",
      "{1, 2, 3}\n",
      "{1, 2, 3, 4, 5, 6, 7}\n",
      "{1, 2, 3, 4, 5, 6, 7, 8, 9}\n",
      "{1, 2, 3, 4, 5, 6}\n"
     ]
    }
   ],
   "source": [
    "s1 = set([1,2,3,4,5,6])\n",
    "s2 = set([4,5,6,7,8,9])\n",
    "\n",
    "\n",
    "# 1:\n",
    "print(s1&s2) # or intersection\n",
    "\n",
    "# 2:\n",
    "print(s1 | s2) # or union\n",
    "\n",
    "# 3:\n",
    "print(s1 - s2) # or difference\n",
    "\n",
    "# 4:\n",
    "s1.add(7)\n",
    "print(s1)\n",
    "\n",
    "# 5:\n",
    "\n",
    "s2.update([1,2,3])\n",
    "print(s2)\n",
    "\n",
    "# 6:\n",
    "s1.remove(7)\n",
    "print(s1)\n"
   ]
  },
  {
   "cell_type": "markdown",
   "metadata": {},
   "source": [
    "## True or False"
   ]
  },
  {
   "cell_type": "markdown",
   "metadata": {},
   "source": [
    "\n",
    "\n",
    "| type   | value | True or False |\n",
    "|--------|-------|---------------|\n",
    "| string | \"python\"  | True      |\n",
    "|        |    \"\"   |    False    |\n",
    "| list   |    [1,2,3]   | True   |\n",
    "|        |   []  |    False      |\n",
    "| tuple  |   ()    |   False     |\n",
    "| dic    | {}    | False           |\n",
    "| num    | not 0  | True         |\n",
    "|        |    0  |    False      |\n",
    "|        |    None   |    False  |"
   ]
  },
  {
   "cell_type": "code",
   "execution_count": 26,
   "metadata": {},
   "outputs": [
    {
     "name": "stdout",
     "output_type": "stream",
     "text": [
      "4\n",
      "3\n",
      "2\n",
      "1\n"
     ]
    }
   ],
   "source": [
    "a = [1,2,3,4]\n",
    "while a:\n",
    "    print(a.pop())"
   ]
  }
 ],
 "metadata": {
  "kernelspec": {
   "display_name": "Python [Root]",
   "language": "python",
   "name": "Python [Root]"
  },
  "language_info": {
   "codemirror_mode": {
    "name": "ipython",
    "version": 3
   },
   "file_extension": ".py",
   "mimetype": "text/x-python",
   "name": "python",
   "nbconvert_exporter": "python",
   "pygments_lexer": "ipython3",
   "version": "3.5.3"
  }
 },
 "nbformat": 4,
 "nbformat_minor": 2
}
