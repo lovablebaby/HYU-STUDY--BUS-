{
 "cells": [
  {
   "cell_type": "markdown",
   "metadata": {},
   "source": [
    "## Dictionary\n",
    "\n",
    "Associative array(배열), Hash(해시)\n",
    "\n",
    "find value through'key'"
   ]
  },
  {
   "cell_type": "code",
   "execution_count": 1,
   "metadata": {
    "collapsed": true
   },
   "outputs": [],
   "source": [
    "dic = {'name':'pey', 'phone': '01012345678', 'birth': '1118'}"
   ]
  },
  {
   "cell_type": "code",
   "execution_count": 2,
   "metadata": {},
   "outputs": [
    {
     "name": "stdout",
     "output_type": "stream",
     "text": [
      "pey\n",
      "01012345678\n",
      "1118\n"
     ]
    }
   ],
   "source": [
    "print(dic['name'])\n",
    "print(dic['phone'])\n",
    "print(dic['birth'])"
   ]
  },
  {
   "cell_type": "markdown",
   "metadata": {},
   "source": [
    "### Revise dictionary"
   ]
  },
  {
   "cell_type": "code",
   "execution_count": 3,
   "metadata": {},
   "outputs": [
    {
     "name": "stdout",
     "output_type": "stream",
     "text": [
      "{1: 'a', 2: 'b'}\n",
      "{1: 'a', 2: 'b', 'name': 'pey'}\n",
      "{1: 'a', 2: 'b', 3: [1, 2, 3], 'name': 'pey'}\n",
      "{2: 'b', 3: [1, 2, 3], 'name': 'pey'}\n"
     ]
    }
   ],
   "source": [
    "# 1:\n",
    "\n",
    "a = {1:'a'}\n",
    "a[2] = 'b'\n",
    "\n",
    "print(a)\n",
    "\n",
    "# 2:\n",
    "a['name'] = 'pey'\n",
    "print(a)\n",
    "\n",
    "# 3:\n",
    "a[3] = [1,2,3]\n",
    "print(a)\n",
    "\n",
    "# 4:\n",
    "del a[1]\n",
    "print(a)"
   ]
  },
  {
   "cell_type": "markdown",
   "metadata": {},
   "source": [
    "### Get value using dictionaly key"
   ]
  },
  {
   "cell_type": "code",
   "execution_count": 4,
   "metadata": {},
   "outputs": [
    {
     "name": "stdout",
     "output_type": "stream",
     "text": [
      "10\n",
      "99\n",
      "b\n"
     ]
    }
   ],
   "source": [
    "grade = {'pey': 10, 'julliet': 99}\n",
    "print(grade['pey'])\n",
    "print(grade['julliet'])\n",
    "\n",
    "print(a[2])"
   ]
  },
  {
   "cell_type": "markdown",
   "metadata": {},
   "source": [
    "+ but, you shouldn't make duplicated list!\n",
    "\n",
    "It couldn't recognize which one you want.\n",
    "\n",
    "+ also, key doesn't accept list type - typeError"
   ]
  },
  {
   "cell_type": "markdown",
   "metadata": {},
   "source": [
    "### dictionary func."
   ]
  },
  {
   "cell_type": "code",
   "execution_count": 7,
   "metadata": {},
   "outputs": [
    {
     "name": "stdout",
     "output_type": "stream",
     "text": [
      "dict_keys(['birth', 'phone', 'name'])\n",
      "dict_values(['1118', '01012345678', 'pey'])\n",
      "dict_items([('birth', '1118'), ('phone', '01012345678'), ('name', 'pey')])\n"
     ]
    }
   ],
   "source": [
    "print(dic.keys())\n",
    "print(dic.values())\n",
    "print(dic.items())\n",
    "\n",
    "# clear, get(get value using key), nokey(none return), in..."
   ]
  }
 ],
 "metadata": {
  "kernelspec": {
   "display_name": "Python [Root]",
   "language": "python",
   "name": "Python [Root]"
  },
  "language_info": {
   "codemirror_mode": {
    "name": "ipython",
    "version": 3
   },
   "file_extension": ".py",
   "mimetype": "text/x-python",
   "name": "python",
   "nbconvert_exporter": "python",
   "pygments_lexer": "ipython3",
   "version": "3.5.3"
  }
 },
 "nbformat": 4,
 "nbformat_minor": 2
}
