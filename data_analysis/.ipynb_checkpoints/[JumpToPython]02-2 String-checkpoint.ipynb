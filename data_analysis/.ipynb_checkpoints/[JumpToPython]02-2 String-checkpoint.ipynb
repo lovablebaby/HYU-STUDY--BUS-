{
 "cells": [
  {
   "cell_type": "markdown",
   "metadata": {},
   "source": [
    "### String"
   ]
  },
  {
   "cell_type": "code",
   "execution_count": 6,
   "metadata": {},
   "outputs": [
    {
     "data": {
      "text/plain": [
       "'\\n\"Life is too short, You need Python\"\\n\"a\"\\n\"123\"\\n'"
      ]
     },
     "execution_count": 6,
     "metadata": {},
     "output_type": "execute_result"
    }
   ],
   "source": [
    "### string simple example :\n",
    "\n",
    "\"\"\"\n",
    "\"Life is too short, You need Python\"\n",
    "\"a\"\n",
    "\"123\"\n",
    "\"\"\""
   ]
  },
  {
   "cell_type": "markdown",
   "metadata": {},
   "source": [
    "### How to make string?"
   ]
  },
  {
   "cell_type": "code",
   "execution_count": 12,
   "metadata": {},
   "outputs": [
    {
     "data": {
      "text/plain": [
       "'Life is too short, You need Python'"
      ]
     },
     "execution_count": 12,
     "metadata": {},
     "output_type": "execute_result"
    }
   ],
   "source": [
    "# 1: \"\"\n",
    "\"Hello World\"\n",
    "\n",
    "# 2: ''\n",
    "'Python is fun'\n",
    "\n",
    "# 3. \"\"\"\"\"\"\n",
    "\"\"\"Life is too short, You need python\"\"\"\n",
    "\n",
    "# 4. ''''''\n",
    "'''Life is too short, You need Python'''"
   ]
  },
  {
   "cell_type": "markdown",
   "metadata": {},
   "source": [
    "### count ' or \" in string "
   ]
  },
  {
   "cell_type": "code",
   "execution_count": 21,
   "metadata": {},
   "outputs": [
    {
     "name": "stdout",
     "output_type": "stream",
     "text": [
      "Python's favorit food is perl. \n",
      " \"Python is very easy.\" he says.\n"
     ]
    }
   ],
   "source": [
    "# 1:\n",
    "food = \"Python's favorite food is perl\"\n",
    "\n",
    "# 2:\n",
    "say = '\"Python is very easy.\" he says.'\n",
    "\n",
    "# 3 :\n",
    "food = 'Python\\'s favorit food is perl.'\n",
    "say = \"\\\"Python is very easy.\\\" he says.\"\n",
    "\n",
    "print(food,\"\\N\",say)"
   ]
  },
  {
   "cell_type": "markdown",
   "metadata": {},
   "source": [
    "### substitute several string line to variables"
   ]
  },
  {
   "cell_type": "code",
   "execution_count": 24,
   "metadata": {},
   "outputs": [
    {
     "name": "stdout",
     "output_type": "stream",
     "text": [
      "Life is too short\n",
      "You need python \n",
      " \n",
      "Life is too short\n",
      "You need python\n",
      "\n"
     ]
    }
   ],
   "source": [
    "# 1:\n",
    "multiline = \"Life is too short\\nYou need python\"\n",
    "\n",
    "# 2:\n",
    "multiline2 = \"\"\"\n",
    "Life is too short\n",
    "You need python\n",
    "\"\"\"\n",
    "print(multiline, '\\n', multiline2)"
   ]
  },
  {
   "cell_type": "markdown",
   "metadata": {},
   "source": [
    "### Calculation"
   ]
  },
  {
   "cell_type": "code",
   "execution_count": 34,
   "metadata": {},
   "outputs": [
    {
     "name": "stdout",
     "output_type": "stream",
     "text": [
      "#1 is Python is fun! \n",
      "\n",
      "#2 is pythonpython\n",
      "\n",
      " #3 is \n",
      " ============================== \n",
      "PyPie\n",
      " ==============================\n"
     ]
    }
   ],
   "source": [
    "# 1 Concatenation\n",
    "head = \"Python\"\n",
    "tail = \" is fun!\"\n",
    "\n",
    "print (\"#1 is\",head+tail,'\\n')\n",
    "\n",
    "\n",
    "# 2 : multiply\n",
    "a = \"python\"\n",
    "print(\"#2 is\",a*2)\n",
    "\n",
    "# 3: application of multiply\n",
    "print('\\n','#3 is','\\n',\"=\"*30,'\\nPyPie\\n',\"=\"*30)"
   ]
  },
  {
   "cell_type": "markdown",
   "metadata": {},
   "source": [
    "### Indexing / Slicing"
   ]
  },
  {
   "cell_type": "code",
   "execution_count": 38,
   "metadata": {},
   "outputs": [
    {
     "data": {
      "text/plain": [
       "'n'"
      ]
     },
     "execution_count": 38,
     "metadata": {},
     "output_type": "execute_result"
    }
   ],
   "source": [
    "a = \"Life is too short, You need Python\"\n",
    "a[-1] # indexing starts 0 first."
   ]
  },
  {
   "cell_type": "code",
   "execution_count": 40,
   "metadata": {},
   "outputs": [
    {
     "name": "stdout",
     "output_type": "stream",
     "text": [
      "Life\n"
     ]
    }
   ],
   "source": [
    "b = a[0] + a[1] + a[2] + a[3]\n",
    "print(b)"
   ]
  },
  {
   "cell_type": "code",
   "execution_count": 42,
   "metadata": {},
   "outputs": [
    {
     "name": "stdout",
     "output_type": "stream",
     "text": [
      "2017 0921 Happy\n"
     ]
    }
   ],
   "source": [
    "df = \"20170921Happy\"\n",
    "year = df[:4]\n",
    "date = df[4:8]\n",
    "feel = df[8:]\n",
    "\n",
    "print(year, date,feel)"
   ]
  },
  {
   "cell_type": "markdown",
   "metadata": {},
   "source": [
    "### Formatting"
   ]
  },
  {
   "cell_type": "code",
   "execution_count": 47,
   "metadata": {},
   "outputs": [
    {
     "data": {
      "text/plain": [
       "'I ate 10 apples. so I was sick for three days.'"
      ]
     },
     "execution_count": 47,
     "metadata": {},
     "output_type": "execute_result"
    }
   ],
   "source": [
    "# 1:\n",
    "\"I eat %d apples.\" %3\n",
    "\n",
    "# 2:\n",
    "\"I eat %s apples.\" %\"five\"\n",
    "\n",
    "# 3:\n",
    "number = 3\n",
    "\"I eat %d apples.\" %number\n",
    "\n",
    "# 4:\n",
    "number = 10\n",
    "day = \"three\"\n",
    "\n",
    "'I ate %d apples. so I was sick for %s days.' %(number, day)"
   ]
  },
  {
   "cell_type": "markdown",
   "metadata": {},
   "source": [
    "and so..\n",
    "\n",
    "count, find, index, upper, lower, lstrip/rstrip, strip, replace, split."
   ]
  }
 ],
 "metadata": {
  "kernelspec": {
   "display_name": "Python [Root]",
   "language": "python",
   "name": "Python [Root]"
  },
  "language_info": {
   "codemirror_mode": {
    "name": "ipython",
    "version": 3
   },
   "file_extension": ".py",
   "mimetype": "text/x-python",
   "name": "python",
   "nbconvert_exporter": "python",
   "pygments_lexer": "ipython3",
   "version": "3.5.3"
  }
 },
 "nbformat": 4,
 "nbformat_minor": 2
}
