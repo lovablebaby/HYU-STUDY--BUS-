{
 "cells": [
  {
   "cell_type": "markdown",
   "metadata": {},
   "source": [
    "# Crawling Ranking Keyword(1-20) in Naver"
   ]
  },
  {
   "cell_type": "code",
   "execution_count": 1,
   "metadata": {
    "collapsed": true
   },
   "outputs": [],
   "source": [
    "import requests\n",
    "\n",
    "# for pharsing\n",
    "from bs4 import BeautifulSoup "
   ]
  },
  {
   "cell_type": "code",
   "execution_count": 8,
   "metadata": {
    "collapsed": true
   },
   "outputs": [],
   "source": [
    "url = 'http://www.naver.com/'\n",
    "html = requests.get(url).text\n",
    "soup = BeautifulSoup(html, 'html.parser')"
   ]
  },
  {
   "cell_type": "code",
   "execution_count": 10,
   "metadata": {},
   "outputs": [
    {
     "name": "stdout",
     "output_type": "stream",
     "text": [
      "화유기\n",
      "이지현\n",
      "김민채\n",
      "정운택\n",
      "김명수\n",
      "이사강\n",
      "이승기\n",
      "정담이\n",
      "생리대\n",
      "릴리안 생리대\n",
      "아이유\n",
      "깨끗한나라\n",
      "릴리안\n",
      "티켓링크\n",
      "김진표\n",
      "공무원연금관리공단\n",
      "이순진\n",
      "릴리안 생리대 부작용\n",
      "송소희\n",
      "박근혜\n"
     ]
    }
   ],
   "source": [
    "for tag in soup.select('.PM_CL_realtimeKeyword_rolling .ah_item .ah_k'):\n",
    "    print(tag.text)"
   ]
  },
  {
   "cell_type": "code",
   "execution_count": 2,
   "metadata": {
    "collapsed": true
   },
   "outputs": [],
   "source": [
    "from collections import OrderedDict\n",
    "from itertools import count\n",
    "\n",
    "def naver_blog_search(q):\n",
    "   post_dict = OrderedDict()\n",
    "   \n",
    "   for page in count(1):\n",
    "       url = 'https://search.naver.com/search.naver'\n",
    "       params = {\n",
    "           'query': q,\n",
    "           'where': 'post',\n",
    "           'start': (page-1)*10 + 1,\n",
    "       }\n",
    "       response = requests.get(url, params=params)\n",
    "       html = response.text\n",
    "       soup = BeautifulSoup(html, 'html.parser')\n",
    "               \n",
    "       for tag in soup.select('.sh_blog_title'):\n",
    "           if tag['href'] in post_dict:\n",
    "               return post_dict\n",
    "           \n",
    "           print(tag.text, tag['href'])\n",
    "           post_dict[tag['href']] = tag.text\n",
    "   return post_dict"
   ]
  },
  {
   "cell_type": "code",
   "execution_count": null,
   "metadata": {},
   "outputs": [],
   "source": [
    "result = naver_blog_search('서든어택2')"
   ]
  },
  {
   "cell_type": "code",
   "execution_count": 13,
   "metadata": {},
   "outputs": [
    {
     "data": {
      "text/plain": [
       "133"
      ]
     },
     "execution_count": 13,
     "metadata": {},
     "output_type": "execute_result"
    }
   ],
   "source": [
    "len(result)"
   ]
  }
 ],
 "metadata": {
  "kernelspec": {
   "display_name": "Python [Root]",
   "language": "python",
   "name": "Python [Root]"
  },
  "language_info": {
   "codemirror_mode": {
    "name": "ipython",
    "version": 3
   },
   "file_extension": ".py",
   "mimetype": "text/x-python",
   "name": "python",
   "nbconvert_exporter": "python",
   "pygments_lexer": "ipython3",
   "version": "3.5.3"
  }
 },
 "nbformat": 4,
 "nbformat_minor": 2
}
