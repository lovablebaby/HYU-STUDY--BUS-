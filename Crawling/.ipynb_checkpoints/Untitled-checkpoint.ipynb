{
 "cells": [
  {
   "cell_type": "code",
   "execution_count": 5,
   "metadata": {},
   "outputs": [
    {
     "ename": "SyntaxError",
     "evalue": "EOL while scanning string literal (<ipython-input-5-ca61e0994196>, line 5)",
     "output_type": "error",
     "traceback": [
      "\u001b[0;36m  File \u001b[0;32m\"<ipython-input-5-ca61e0994196>\"\u001b[0;36m, line \u001b[0;32m5\u001b[0m\n\u001b[0;31m    ACCESS_TOKEN = \"177934527-gtEiP4ALI2lM1ot6Z37iY0gKHOsU4lrP5JbofQaO＂\u001b[0m\n\u001b[0m                                                                       ^\u001b[0m\n\u001b[0;31mSyntaxError\u001b[0m\u001b[0;31m:\u001b[0m EOL while scanning string literal\n"
     ]
    }
   ],
   "source": [
    "from twython import Twython\n",
    "\n",
    "CONSUMER_KEY = \"PpPFgj3btsSdMtc3DBggLgqM1\"\n",
    "CONSUMER_SECRET = \"KEbnGnDWQMrqo5R9sQq7WgyNbv1PqDAh59MPBfLXbajyXV7lf0\"\n",
    "ACCESS_TOKEN = \"177934527-gtEiP4ALI2lM1ot6Z37iY0gKHOsU4lrP5JbofQaO＂\n",
    "ACCESS_TOKEN_SECRET = \"P5vzvFOiZIfuUkha1XrvrqKhDsy0bPMFbUjo5UejhNyuC\"\n",
    "\n",
    "twitter = Twython(CONSUMER_KEY, CONSUMER_SECRET)\n",
    "\n",
    "# '''data science'''라는 키워드가 들어있는 트윗 검색\n",
    "for status in twitter.search(q='''man utd''')[\"statuses\"]:\n",
    "    user = status[\"user\"][\"screen_name\"].encode('utf-8')\n",
    "    text = status[\"text\"].encode('utf-8')\n",
    "    print(user, \":\", text)\n"
   ]
  }
 ],
 "metadata": {
  "kernelspec": {
   "display_name": "Python [Root]",
   "language": "python",
   "name": "Python [Root]"
  },
  "language_info": {
   "codemirror_mode": {
    "name": "ipython",
    "version": 3
   },
   "file_extension": ".py",
   "mimetype": "text/x-python",
   "name": "python",
   "nbconvert_exporter": "python",
   "pygments_lexer": "ipython3",
   "version": "3.5.3"
  }
 },
 "nbformat": 4,
 "nbformat_minor": 2
}
