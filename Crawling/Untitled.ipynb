{
 "cells": [
  {
   "cell_type": "code",
   "execution_count": 4,
   "metadata": {},
   "outputs": [
    {
     "name": "stdout",
     "output_type": "stream",
     "text": [
      "b'RicoJTL' : b\"RT @Squawka: ON THIS DAY: In 2004, Man Utd signed Wayne Rooney for \\xc2\\xa330m from Everton.\\n\\nThe club's all-time leading scorer with 253 goals.\\xe2\\x80\\xa6\"\n",
      "b'RomainVajo' : b'RT @HistorySport_: Former Man Utd Superstars David Beckham and Dwight Yorke enjoy a pre-seaon barbecue. https://t.co/UwlXb4mDIR'\n",
      "b'kabelo_gary' : b'RT @premierleague: Leader. Legend. Goalkeeper?\\n\\nLucas Radebe gained instant cult status when he went between the sticks against Man Utd for\\xe2\\x80\\xa6'\n",
      "b'AvaKatrina2' : b'RT @BBCSport: \"Loads of money. Plays for Man Utd. Not very good.\"\\n\\nSavage stuff on @QuestionofSport.\\n\\n*Opinions may be based on last season\\xe2\\x80\\xa6'\n",
      "b'Redevo82' : b'@kngriffiths4 @Allan7MUFC @AmyyyRosee @MUFC_B_DAVIES @bloom200 @antongrisswald @KellyFosters @JamesyCantona\\xe2\\x80\\xa6 https://t.co/xiR6u7J43b'\n",
      "b'KishenMVP' : b\"RT @JamesMurphyTips: Riyad Mahrez is available for around \\xc2\\xa340m at most I'd imagine - if Man Utd managed to secure him you'd strongly fancy\\xe2\\x80\\xa6\"\n",
      "b'Ollylaysthelaws' : b'RT @premierleague: Leader. Legend. Goalkeeper?\\n\\nLucas Radebe gained instant cult status when he went between the sticks against Man Utd for\\xe2\\x80\\xa6'\n",
      "b'MarcBruiser' : b'@DAMORKO666 Haha!! Ask Man Utd if you can borrow their #FaxMachine!! #DeadlineDayDrama \\xe2\\x9a\\xbd\\xef\\xb8\\x8f\\xf0\\x9f\\x99\\x88\\xf0\\x9f\\x98\\x82'\n",
      "b'itz_didat' : b'RT @Alkalee_Musa: On behalf of all Man Utd fans\\nWe have to decline this and pass him on to Agbero FC aka Chelsea. https://t.co/i2pAM52s0t'\n",
      "b'aliihamiisii' : b'RT @premierleague: Leader. Legend. Goalkeeper?\\n\\nLucas Radebe gained instant cult status when he went between the sticks against Man Utd for\\xe2\\x80\\xa6'\n",
      "b'_ojow' : b'RT @HistorySport_: Former Man Utd Superstars David Beckham and Dwight Yorke enjoy a pre-seaon barbecue. https://t.co/UwlXb4mDIR'\n",
      "b'_lorde_draco' : b\"RT @Squawka: ON THIS DAY: In 2004, Man Utd signed Wayne Rooney for \\xc2\\xa330m from Everton.\\n\\nThe club's all-time leading scorer with 253 goals.\\xe2\\x80\\xa6\"\n",
      "b'Clinton37031290' : b'RT @premierleague: Leader. Legend. Goalkeeper?\\n\\nLucas Radebe gained instant cult status when he went between the sticks against Man Utd for\\xe2\\x80\\xa6'\n",
      "b'AmRyan014' : b'RT @premierleague: Leader. Legend. Goalkeeper?\\n\\nLucas Radebe gained instant cult status when he went between the sticks against Man Utd for\\xe2\\x80\\xa6'\n",
      "b'MattCalimero' : b'@Fafa99096773 Chelsea: Concurrence (Wilian, Pedro)\\nLiverpool: Man\\xc3\\xa9...\\nSpurs: Why not?\\nMan Utd: Why not?'\n"
     ]
    }
   ],
   "source": [
    "from twython import Twython\n",
    "\n",
    "CONSUMER_KEY = \"PpPFgj3btsSdMtc3DBggLgqM1\"\n",
    "CONSUMER_SECRET = \"KEbnGnDWQMrqo5R9sQq7WgyNbv1PqDAh59MPBfLXbajyXV7lf0\"\n",
    "ACCESS_TOKEN = \"177934527-gtEiP4ALI2lM1ot6Z37iY0gKHOsU4lrP5JbofQaO\"\n",
    "ACCESS_TOKEN_SECRET = \"P5vzvFOiZIfuUkha1XrvrqKhDsy0bPMFbUjo5UejhNyuC\"\n",
    "twitter = Twython(CONSUMER_KEY, CONSUMER_SECRET)\n",
    "\n",
    "# '''data science'''라는 키워드가 들어있는 트윗 검색\n",
    "for status in twitter.search(q='''man utd''')[\"statuses\"]:\n",
    "    user = status[\"user\"][\"screen_name\"].encode('utf-8')\n",
    "    text = status[\"text\"].encode('utf-8')\n",
    "    print(user, \":\", text)\n"
   ]
  },
  {
   "cell_type": "code",
   "execution_count": null,
   "metadata": {
    "collapsed": true
   },
   "outputs": [],
   "source": []
  }
 ],
 "metadata": {
  "kernelspec": {
   "display_name": "Python [Root]",
   "language": "python",
   "name": "Python [Root]"
  }
 },
 "nbformat": 4,
 "nbformat_minor": 2
}
