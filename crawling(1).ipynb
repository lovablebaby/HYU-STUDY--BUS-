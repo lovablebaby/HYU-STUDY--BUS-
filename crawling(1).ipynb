{
 "cells": [
  {
   "cell_type": "markdown",
   "metadata": {},
   "source": [
    "# Crawling Ranking Keyword(1-20) in Naver"
   ]
  },
  {
   "cell_type": "code",
   "execution_count": 3,
   "metadata": {
    "collapsed": true
   },
   "outputs": [],
   "source": [
    "import requests\n",
    "\n",
    "# for pharsing\n",
    "from bs4 import BeautifulSoup "
   ]
  },
  {
   "cell_type": "code",
   "execution_count": 8,
   "metadata": {
    "collapsed": true
   },
   "outputs": [],
   "source": [
    "url = 'http://www.naver.com/'\n",
    "html = requests.get(url).text\n",
    "soup = BeautifulSoup(html, 'html.parser')"
   ]
  },
  {
   "cell_type": "code",
   "execution_count": 10,
   "metadata": {},
   "outputs": [
    {
     "name": "stdout",
     "output_type": "stream",
     "text": [
      "화유기\n",
      "이지현\n",
      "김민채\n",
      "정운택\n",
      "김명수\n",
      "이사강\n",
      "이승기\n",
      "정담이\n",
      "생리대\n",
      "릴리안 생리대\n",
      "아이유\n",
      "깨끗한나라\n",
      "릴리안\n",
      "티켓링크\n",
      "김진표\n",
      "공무원연금관리공단\n",
      "이순진\n",
      "릴리안 생리대 부작용\n",
      "송소희\n",
      "박근혜\n"
     ]
    }
   ],
   "source": [
    "for tag in soup.select('.PM_CL_realtimeKeyword_rolling .ah_item .ah_k'):\n",
    "    print(tag.text)"
   ]
  },
  {
   "cell_type": "code",
   "execution_count": 11,
   "metadata": {
    "collapsed": true
   },
   "outputs": [],
   "source": [
    "from collections import OrderedDict\n",
    "from itertools import count\n",
    "\n",
    "def naver_blog_search(q):\n",
    "   post_dict = OrderedDict()\n",
    "   \n",
    "   for page in count(1):\n",
    "       url = 'https://search.naver.com/search.naver'\n",
    "       params = {\n",
    "           'query': q,\n",
    "           'where': 'post',\n",
    "           'start': (page-1)*10 + 1,\n",
    "       }\n",
    "       response = requests.get(url, params=params)\n",
    "       html = response.text\n",
    "       soup = BeautifulSoup(html, 'html.parser')\n",
    "               \n",
    "       for tag in soup.select('.sh_blog_title'):\n",
    "           if tag['href'] in post_dict:\n",
    "               return post_dict\n",
    "           \n",
    "           print(tag.text, tag['href'])\n",
    "           post_dict[tag['href']] = tag.text\n",
    "   return post_dict"
   ]
  },
  {
   "cell_type": "code",
   "execution_count": 12,
   "metadata": {},
   "outputs": [
    {
     "name": "stdout",
     "output_type": "stream",
     "text": [
      "경영대학원 면접...한양대 http://blog.naver.com/darkspwn1?Redirect=Log&logNo=40107493842\n",
      "2015.8.12 / 한양대 안산캠퍼스... (김종혁_나눔경영컨설팅) http://blog.naver.com/jazzmania74?Redirect=Log&logNo=220449075646\n",
      "한양대 일반대학원 학업계획서, 면접 http://blog.naver.com/passuniversity?Redirect=Log&logNo=220871399535\n",
      "한양대 추가접수 http://moneyssam.blog.me/220890687261\n",
      "경기경영컨설팅의 가족들을 소개 합니다. ^^ http://blog.naver.com/gmcbiz?Redirect=Log&logNo=220462861680\n",
      "[펌] 경영정보학과에 관해 http://blog.naver.com/kinassx?Redirect=Log&logNo=40052439876\n",
      "[학과종류]2009, 2010 각 대학별 신설학과 http://blog.naver.com/xtudy?Redirect=Log&logNo=20086731424\n",
      "대전 팝스오케스트라 제 45회 정기공연 http://blog.naver.com/gongjeon21?Redirect=Log&logNo=220538602792\n",
      "[주간대학뉴스] 국민대 교수, 시간강사에게 10년 간 억대 금품... http://goham20.tistory.com/3102\n",
      "[서울시장 보선 D-16] \"나경원 한나라당 후보 공약 검증 리포트... http://okcbs.blog.me/130120633933\n",
      "한국생산성본부에서 HRD쪽 일을 하려면 교육학전공자를... http://blog.naver.com/livwilly?Redirect=Log&logNo=220214411775\n",
      "교수님 면담하러 한양대에 가다. http://blog.naver.com/darkspwn1?Redirect=Log&logNo=40111957710\n",
      "교육부가 선정한 부실대학 명단과 선정기준 http://blog.naver.com/hyuncine?Redirect=Log&logNo=194162422\n",
      "이과에서 가장 문과적인 산업공학과 http://blog.naver.com/choco544?Redirect=Log&logNo=220286649118\n",
      "2016년 1월 6일 교육관련 뉴스 http://blog.naver.com/cqico?Redirect=Log&logNo=220589024037\n",
      "재수 성공 후기 모아봤어요~ http://freeeeeeeeeee.tistory.com/56\n",
      "한양사이버대학교 디자인학부 소개 http://blog.naver.com/hycu_design2?Redirect=Log&logNo=220186185265\n",
      "청년창업 컨설팅·사업비 지원해주는 곳 찾아보니 http://blog.daum.net/hellopolicy/6979069\n",
      "리치보이가 주목한 오늘의 책 - 사장의 생각(신현만) http://blog.daum.net/tobfreeman/7166219\n",
      "대한민국 넥스트 패러다임-대한민국 미래혁명 보고서... http://blog.daum.net/mkbook/13682122\n",
      "정부지원 컨설팅대학원 비교 http://blog.naver.com/no2kii?Redirect=Log&logNo=220549526015\n",
      "한양대-SPM MBA http://blog.naver.com/itoh?Redirect=Log&logNo=140054310401\n",
      "2017년 7월 4일 신문 브리핑 http://blog.naver.com/imyounghyek?Redirect=Log&logNo=221043435263\n",
      "[학위] 영구수료? 이게 뭔 소리? http://blog.naver.com/darkspwn1?Redirect=Log&logNo=40204274302\n",
      "<1>산학협력 어디까지 왔나①대학-기업 간 신뢰가 성공 밑거름 http://blog.naver.com/tktgi?Redirect=Log&logNo=130003463930\n",
      "(후기) 제10회 대한민국코치대회 - 코칭, 창조를 깨우다. http://blog.naver.com/happyohyh?Redirect=Log&logNo=50183758367\n",
      "나의 꿈은 글로벌 CEO http://blog.naver.com/simula?Redirect=Log&logNo=20013850696\n",
      "2015년 10월 7일 교육관련 뉴스 http://blog.naver.com/cqico?Redirect=Log&logNo=220501735346\n",
      "저작권강사 안내 http://mysolomon.tistory.com/24\n",
      "한정화 기경원 원장 http://blog.naver.com/kjyoun24?Redirect=Log&logNo=60045003884\n",
      "[2] 아이창업 고문단 http://blog.naver.com/ysnoh52?Redirect=Log&logNo=150000479005\n",
      "이번 토요일에 리더십포럼있습니다...(2005. 10. 20) http://unibranding.tistory.com/374\n",
      "★★★축!! (사)한국강사협회 2006년 명강사회원 1,000명... http://blog.naver.com/angelryuho?Redirect=Log&logNo=150006528658\n",
      "[한국강사협회]★★ 2007년 1차 명강회원 500명 발표★★ http://blog.naver.com/an2001?Redirect=Log&logNo=37312917\n",
      "주인장 경력_연락처 http://blog.naver.com/roh2020?Redirect=Log&logNo=220321305854\n",
      "[Tip] 박사학위를 받기위한 과정 : 학회지 논문 게재 http://blog.naver.com/darkspwn1?Redirect=Log&logNo=220043784703\n",
      "<신간도서>한국의 CEO는 무엇으로 사는가 http://blog.daum.net/jkw6766/8658243\n",
      "피티엑스 코칭- 취업컨설팅(강사진프로필) http://blog.naver.com/ptxgroup?Redirect=Log&logNo=220377264051\n",
      "하버드 power http://blog.naver.com/zeal4christ?Redirect=Log&logNo=10576205\n",
      "경영학 석사(MBA) 학위 따기/회사에서 나의 몸값을 올리는 방법 http://blog.naver.com/koreabrain00?Redirect=Log&logNo=70085904142\n",
      "2014년 9월 29일 교육관련 뉴스 http://blog.naver.com/cqico?Redirect=Log&logNo=220135794166\n",
      "Directors http://stemi.co.kr/122\n",
      "기계공학과를 모태로 한 공학계열 학과 및 진로-나침반 36.5도 http://doshin38.blog.me/220014004003\n",
      "[진로 찾아가기] 경영 컨설턴트 http://blog.naver.com/chemnote?Redirect=Log&logNo=220317224910\n",
      "번개가 가르쳐 준 것 http://blog.naver.com/starry9?Redirect=Log&logNo=140008739236\n",
      "[‘자유인’과의 대화 11] / 기업형 네트워크병원 일군... http://blog.naver.com/bogjo22?Redirect=Log&logNo=150034453233\n",
      "[정부지원]컨설팅대학원 http://blog.daum.net/sunman86/22\n",
      "[일상] 박사논문 예비발표 일정이 확정되었습니다... http://blog.naver.com/darkspwn1?Redirect=Log&logNo=220168124117\n",
      "경영 컨설턴트 http://blog.naver.com/jklovelike?Redirect=Log&logNo=50016093984\n",
      "김우황·이재희·서두칠·차석용·임승남 ‘열정’과... http://light34.blog.me/150017556405\n",
      "히든베이 호텔(hidden bay hotel)/전남 여수 http://blog.naver.com/cleanmotel?Redirect=Log&logNo=220964007584\n",
      "강사진 전체보기 http://blog.daum.net/thchoi2930/13\n",
      "2014년 12월 29일 교육관련 뉴스 http://blog.naver.com/cqico?Redirect=Log&logNo=220223327410\n",
      "<사장의 생각> 도서이벤트 http://ganjjang.co.kr/entry/%EC%82%AC%EC%9E%A5%EC%9D%98-%EC%83%9D%EA%B0%81-%EB%8F%84%EC%84%9C%EC%9D%B4%EB%B2%A4%ED%8A%B8\n",
      "10개 분야에 대한「서비스산업 선진화 방안」발표 http://djdoh.blog.me/70046811655\n",
      "구술면접 기출문제 (경제 및 경영) http://blog.naver.com/sunos2?Redirect=Log&logNo=100012865512\n",
      "교수·변호사 750명 “단독 작통권 반대” http://blog.daum.net/wcm001/5282622\n",
      "2012 교육과학기술부 업무보고서 http://jp.sangha.kr/130126984724\n",
      "[제160회]마이크임팩트 한동헌대표님 편_두려움은 지극히... http://blog.naver.com/kingcap12?Redirect=Log&logNo=50155112294\n",
      "여자 회계사가 되는 방법 http://prolife.tistory.com/87\n",
      "2013 경영기술지도사 시험 합격자 실무수습... http://mncstyle.blog.me/10181296868\n",
      "뭐..친구부탁? http://blog.naver.com/buio527?Redirect=Log&logNo=220227181491\n",
      "스포츠 에이전트 - [대한논리 정독 속독 학원 대방 신대방... http://blog.naver.com/nshan77?Redirect=Log&logNo=220041046058\n",
      "[판교테크노밸리]제1회 중소기업 컨설팅 컨퍼런스 개최... http://blog.naver.com/htiger31?Redirect=Log&logNo=220540400723\n",
      "[신간도서]한국의 CEO는 무엇으로 사는가 http://blog.yes24.com/bookiemb/1796297\n",
      "[산업공학과]이과에서 가장 문과적인 특성을 가진 산업공학과 http://pneomentor.tistory.com/76\n",
      "자산관리사로, 의사로… AI가 이끄는‘4차 산업혁명’ http://blog.naver.com/savi7na07?Redirect=Log&logNo=220675791481\n",
      "이종수 강사 - 경영전략목표관리 , 생산성혁신... http://blog.naver.com/loveisdk?Redirect=Log&logNo=10163262590\n",
      "경영학 석사 위키피디아 정보 http://blog.daum.net/aweoip314/54\n",
      "[직업정보] \"녹색경영컨설턴트\" 어떤일을 하나요? http://blog.naver.com/hihi2x21?Redirect=Log&logNo=120180146766\n",
      "[국회 반값등록금 세미나] 반값등록금/반값등록금 정책과 과제... http://blog.daum.net/apc55/328\n",
      "'About/Directors' 카테고리의 글 목록 http://stemi.co.kr/category/About/Directors\n",
      "ThinkVirus 경력 프로필 http://thinkvirus.tistory.com/100\n",
      "디자인학부 http://blog.naver.com/jebi1313?Redirect=Log&logNo=60176933380\n",
      "2010 수시 유형별 분석 & 합격생 생생 토크 http://blog.daum.net/ysk6624/16489982\n",
      "2014년 10월 16일 오전 11시 27분에 저장한 글입니다. http://blog.naver.com/xowns9288?Redirect=Log&logNo=220152298780\n",
      "[사진전]마음담기 /기사 http://blog.naver.com/treen7?Redirect=Log&logNo=117540584\n",
      "입사성공기 모음-동아일보 http://blog.daum.net/t-aria/13504082\n",
      "[HRD아카데미] 2월 21일~22일 교육요구분석 전문과정 http://blog.naver.com/khrdcc?Redirect=Log&logNo=120150296675\n",
      "[HRD아카데미] 3월 21일~22일 교육과정개발 전문과정 http://blog.naver.com/khrdcc?Redirect=Log&logNo=120151964067\n",
      "베스트 플레이어 | 메슈 사이드 지음 | 신승미 옮김... http://blog.naver.com/hdcjj22?Redirect=Log&logNo=70098306776\n",
      "2007년 명강사 명단 http://blog.daum.net/lastchoi59/441101\n",
      "하버드대 KSG 출신들 http://blog.naver.com/okinawapark?Redirect=Log&logNo=83525090\n",
      "‘산학협력 선도대학(LINC) 육성사업’연차평가 결과 발표 http://haehyo29.blog.me/220712365817\n",
      "비즈니스닥터 이덕재의 프로필 http://blog.naver.com/businessdoc?Redirect=Log&logNo=150096816150\n",
      "\"재능기부문화 확산 각박한 사회 바꿔나가야\" http://blog.naver.com/bridgenews?Redirect=Log&logNo=220130403821\n",
      "“중소기업, 사회적책임(CSR) 실천의 주역으로 육성”- 정부... http://blog.naver.com/htiger31?Redirect=Log&logNo=220847391331\n",
      "726. 진짜공부는 서른에 시작된다 http://blog.naver.com/liebeljd?Redirect=Log&logNo=60212658104\n",
      "꽤 웃긴걸 발견했다. 내 메일함에 날아온 어떤 스팸(?)... http://blog.naver.com/iyoch?Redirect=Log&logNo=50002335406\n",
      "권한 막강 교육의원, 우리동네 후보는?(서울타임즈) http://blog.daum.net/cleanrok/11304283\n",
      "경력인재 프로필 - Vol 167 http://blog.daum.net/chimat/1644\n",
      "홍보물 문의 많이하시는데요, 홍보물 제작 업체추천해드려요~ http://blog.naver.com/dandyfm?Redirect=Log&logNo=20132834768\n",
      "강단에선 CEO…\"현장 얘기 듣고, 인재도 구하고\" http://blog.joins.com/dion2010/4591686\n",
      "산업공학과 http://blog.daum.net/werewolfx/699\n",
      "직업평가 http://makeitmine.tistory.com/26\n",
      "박남규 Profile http://blog.naver.com/kinetherapy?Redirect=Log&logNo=140108852908\n",
      "화성을= 동 화성: 동탄 신도시 신진 정치인 40대 민주인사... http://blog.naver.com/esuccess?Redirect=Log&logNo=40049456317\n",
      "#01 한양대학교 산업공학과 http://blog.naver.com/hellogenius?Redirect=Log&logNo=10185359114\n",
      "제17대 대통령 예비후보(국정회) 사무총장 임춘수 http://blog.daum.net/carefreewater/17227222\n",
      "2005년 10대 취업시장 이슈 http://blog.naver.com/cjhee54?Redirect=Log&logNo=40011259072\n",
      "국민의당 창당발기인 명단(1978명·가나다순) http://blog.naver.com/stud3333?Redirect=Log&logNo=220594800345\n",
      "헤드헌터 100인과 그들이 뽑은 직종별 몸값올리기 비법 http://blog.daum.net/taktain/2704777\n",
      "2014년 한국마케팅학회 회원명단 http://kmanews.tistory.com/80\n",
      "산업공학과 SI(system Intergration)산업에 대한 소개 http://koyang.tistory.com/37\n",
      "SNS전문강사 최재용교수 대구에서 여성MBA과정 SNS활용교육... http://cha6718.blog.me/60172620596\n",
      "[Seven Partners] 삼성 신경영의 과제-제2회 런 삼성포럼 http://blog.naver.com/sevenpartner?Redirect=Log&logNo=60193283078\n",
      "금옥만당-눈물속에 피는 꽃 ! http://blog.naver.com/tae9271?Redirect=Log&logNo=40028189405\n",
      "외국에서 바라본 “기러기 아빠” http://blog.naver.com/fnt?Redirect=Log&logNo=9180251\n",
      "한국경제 외신보도 現地시간 2007. 12. 4일자 http://1930song.blog.me/40045019787\n",
      "4·9총선 한나라 공천 신청자 http://blog.naver.com/cys2007?Redirect=Log&logNo=140048024848\n"
     ]
    },
    {
     "name": "stdout",
     "output_type": "stream",
     "text": [
      "노화, 갱년기, 50대 http://deokpo.egloos.com/6604632\n",
      "[오늘의 운세] 12월 29일 일요일(陰 11월 27일... http://blog.ohmynews.com/gbs8655/184572\n",
      "노인 장기요양보험제도의 현황 및 개선방향(2009년... http://blog.daum.net/lst3042002/8331266\n",
      "대선출마자 http://blog.naver.com/okinawapark?Redirect=Log&logNo=39796255\n",
      "전국 사이버대학 현황 2016년 6월말 현재 http://careerin.blog.me/221037561414\n",
      "개교 30주년 맞은 한양대 에리카(ERICA)캠퍼스 http://blog.naver.com/hanmailhan?Redirect=Log&logNo=90065667370\n",
      "기업 돈 뜯어내는 준조세 이 기회에 뿌리뽑아야 http://quarrel229.tistory.com/142\n",
      "2011년 3월의 사랑한대 트위터 이야기 http://ilovehyu.tistory.com/386\n",
      "우리조명 분기보고서 http://blog.naver.com/introduce2030?Redirect=Log&logNo=220918213594\n",
      "서연이화 분기보고서 http://blog.naver.com/introduce2030?Redirect=Log&logNo=220918190258\n",
      "한화투자증권 분기보고서 http://blog.naver.com/introduce2030?Redirect=Log&logNo=220918220891\n",
      "매년 80만 명 '환갑 쓰나미' … 임금 쪼개야 오래 일한다 http://blog.naver.com/eyaye?Redirect=Log&logNo=220342975434\n",
      "[2013/5] 언론을 통해 본 자랑스러운 한양, 한양인 http://ilovehyu.tistory.com/841\n",
      "[2012/5,6] Campus Now http://ilovehyu.tistory.com/670\n",
      "[2011/05] 캠퍼스 뉴스 단신 : 입학설명회 외 http://ilovehyu.tistory.com/373\n",
      "[2014-10-27] 단국대학교 - 트렌드 뉴스 http://blog.naver.com/bbbak1263?Redirect=Log&logNo=220163382445\n",
      "2011년 6월8일 요즘 이야기 http://blog.daum.net/dkrktl2000/966\n",
      "[직업정보] IT 컨설턴트 http://careerhub.co.kr/60009625433\n",
      "젊은 심장, 세계를 꿈꿔라 http://blog.daum.net/cjk0102/1441\n",
      "제5회 미지상 수상자 10인 인터뷰 http://blog.naver.com/swpress?Redirect=Log&logNo=50013727221\n",
      "\"특허시장은 황금알\" JP모건·록펠러도 특허괴물에 투자 http://blog.naver.com/ecustomer?Redirect=Log&logNo=120178916607\n",
      "[4대 그룹 뉴 파워엘리트 프로필] 4대 그룹 신임 CEO- 한국경제... http://blog.naver.com/mhlovejw?Redirect=Log&logNo=40062286654\n",
      "4·9 총선 출마 예상자 http://yawoo21.blog.me/90027551712\n"
     ]
    }
   ],
   "source": [
    "result = naver_blog_search('한양대 경영컨설팅학과')"
   ]
  },
  {
   "cell_type": "code",
   "execution_count": 13,
   "metadata": {},
   "outputs": [
    {
     "data": {
      "text/plain": [
       "133"
      ]
     },
     "execution_count": 13,
     "metadata": {},
     "output_type": "execute_result"
    }
   ],
   "source": [
    "len(result)"
   ]
  }
 ],
 "metadata": {
  "kernelspec": {
   "display_name": "Python [Root]",
   "language": "python",
   "name": "Python [Root]"
  },
  "language_info": {
   "codemirror_mode": {
    "name": "ipython",
    "version": 3
   },
   "file_extension": ".py",
   "mimetype": "text/x-python",
   "name": "python",
   "nbconvert_exporter": "python",
   "pygments_lexer": "ipython3",
   "version": "3.5.3"
  }
 },
 "nbformat": 4,
 "nbformat_minor": 2
}
